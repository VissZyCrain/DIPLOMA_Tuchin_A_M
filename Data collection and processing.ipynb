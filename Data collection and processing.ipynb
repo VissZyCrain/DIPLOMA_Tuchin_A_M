{
 "cells": [
  {
   "cell_type": "markdown",
   "metadata": {},
   "source": [
    "#### Сбор и обработка данных\n",
    "#### Дипломная работа по теме: \"Изучение возможности расширения торгового направления в нишах медицинской, производственной и металлической мебели (на примере анализа ассортимента конкурентов, а также изучение предложения потенциального поставщика, с целью дальнейшего составления рекомендаций собственникам бизнеса)\". \n",
    "\n"
   ]
  },
  {
   "cell_type": "markdown",
   "metadata": {},
   "source": [
    "Все данные, которые были получены для исследования, были получены при помощи парсинга официальных сайтов компаний, занимающихся продажей медицинской, производственной и металлической мебели на местном рынке города V, было исследовано 5 сайтов предполагаемых конкурентов и один сайт потенциального поставщика.\n",
    "В результате парсинга было получено шесть уникальных наборов данных, нуждающихся в дополнительной очистке и обработке. Для данных которые касались конкурентов были присвоены порядковые номера от 1 до 5, а для набора данных поставщика был присвоен номер – 10.\n"
   ]
  },
  {
   "cell_type": "markdown",
   "metadata": {},
   "source": [
    "#### Библиотеки"
   ]
  },
  {
   "cell_type": "code",
   "execution_count": 8,
   "metadata": {},
   "outputs": [
    {
     "ename": "ModuleNotFoundError",
     "evalue": "No module named 'pandas'",
     "output_type": "error",
     "traceback": [
      "\u001b[1;31m---------------------------------------------------------------------------\u001b[0m",
      "\u001b[1;31mModuleNotFoundError\u001b[0m                       Traceback (most recent call last)",
      "Cell \u001b[1;32mIn[8], line 2\u001b[0m\n\u001b[0;32m      1\u001b[0m \u001b[38;5;66;03m#подключаем библиотеки\u001b[39;00m\n\u001b[1;32m----> 2\u001b[0m \u001b[38;5;28;01mimport\u001b[39;00m \u001b[38;5;21;01mpandas\u001b[39;00m \u001b[38;5;28;01mas\u001b[39;00m \u001b[38;5;21;01mpd\u001b[39;00m\n\u001b[0;32m      3\u001b[0m \u001b[38;5;28;01mimport\u001b[39;00m \u001b[38;5;21;01mtime\u001b[39;00m\n\u001b[0;32m      4\u001b[0m \u001b[38;5;28;01mimport\u001b[39;00m \u001b[38;5;21;01mrequests\u001b[39;00m\n",
      "\u001b[1;31mModuleNotFoundError\u001b[0m: No module named 'pandas'"
     ]
    }
   ],
   "source": [
    "#подключаем библиотеки\n",
    "import pandas as pd\n",
    "import time\n",
    "import requests\n",
    "from bs4 import BeautifulSoup\n",
    "import re\n",
    "     "
   ]
  },
  {
   "cell_type": "markdown",
   "metadata": {},
   "source": [
    "#### Парсинг по организации 1"
   ]
  },
  {
   "cell_type": "markdown",
   "metadata": {},
   "source": [
    "[Официальный сайт организации 1](https://ижевск.железная-мебель.рф/)\n",
    "\n",
    "Интересующие категории:\n",
    "* Сейфы\n",
    "* Металлические шкафы\n",
    "* Стеллажи\n",
    "* Производственная мебель (Верстаки, столы, тумбы)\n",
    "\n",
    "Данные для сбора:\n",
    "* Название\n",
    "* Подкатегория\n",
    "* Габаритные размеры\n",
    "* Описание\n",
    "* Наличие\n",
    "* Продажная цена"
   ]
  },
  {
   "cell_type": "markdown",
   "metadata": {},
   "source": [
    "### [Сейфы](https://ижевск.железная-мебель.рф/catalog/seyfy/ \"Ссылка на категорию\")"
   ]
  },
  {
   "cell_type": "code",
   "execution_count": 5,
   "metadata": {},
   "outputs": [
    {
     "ename": "NameError",
     "evalue": "name 'pd' is not defined",
     "output_type": "error",
     "traceback": [
      "\u001b[1;31m---------------------------------------------------------------------------\u001b[0m",
      "\u001b[1;31mNameError\u001b[0m                                 Traceback (most recent call last)",
      "Cell \u001b[1;32mIn[5], line 33\u001b[0m\n\u001b[0;32m     30\u001b[0m     i \u001b[38;5;241m+\u001b[39m\u001b[38;5;241m=\u001b[39m\u001b[38;5;241m1\u001b[39m\n\u001b[0;32m     31\u001b[0m   \u001b[38;5;28;01mreturn\u001b[39;00m zheleznaya_mebel_seify\u001b[38;5;241m.\u001b[39mreset_index(drop\u001b[38;5;241m=\u001b[39m\u001b[38;5;28;01mTrue\u001b[39;00m)\n\u001b[1;32m---> 33\u001b[0m res_full \u001b[38;5;241m=\u001b[39m \u001b[43mget_zheleznaya_mebel_seify\u001b[49m\u001b[43m(\u001b[49m\u001b[43m)\u001b[49m \u001b[38;5;66;03m#записываем сейфы в переменную\u001b[39;00m\n",
      "Cell \u001b[1;32mIn[5], line 3\u001b[0m, in \u001b[0;36mget_zheleznaya_mebel_seify\u001b[1;34m()\u001b[0m\n\u001b[0;32m      2\u001b[0m \u001b[38;5;28;01mdef\u001b[39;00m \u001b[38;5;21mget_zheleznaya_mebel_seify\u001b[39m():\n\u001b[1;32m----> 3\u001b[0m   zheleznaya_mebel_seify \u001b[38;5;241m=\u001b[39m \u001b[43mpd\u001b[49m\u001b[38;5;241m.\u001b[39mDataFrame()\n\u001b[0;32m      4\u001b[0m   i \u001b[38;5;241m=\u001b[39m \u001b[38;5;241m1\u001b[39m\n\u001b[0;32m      5\u001b[0m   \u001b[38;5;28;01mwhile\u001b[39;00m i \u001b[38;5;241m<\u001b[39m\u001b[38;5;241m=\u001b[39m \u001b[38;5;241m66\u001b[39m:\n",
      "\u001b[1;31mNameError\u001b[0m: name 'pd' is not defined"
     ]
    }
   ],
   "source": [
    "# Категория сейфы all pages\n",
    "def get_zheleznaya_mebel_seify():\n",
    "  zheleznaya_mebel_seify = pd.DataFrame()\n",
    "  i = 1\n",
    "  while i <= 66:\n",
    "    url = 'https://ижевск.железная-мебель.рф/catalog/seyfy/?page'+'='+f'{str(i)}'\n",
    "    req = requests.get(url).text\n",
    "    time.sleep(0.3)\n",
    "    soup = BeautifulSoup(req)\n",
    "\n",
    "    seyfs = soup.find_all('div', class_='item-cart__content-wrap')\n",
    "\n",
    "    for el in seyfs:\n",
    "      title = el.find('a', 'item-cart__title').text\n",
    "      description = el.find('div', class_='props-list').text\n",
    "      size = re.findall(r'\\d*х\\d*х\\d*|\\d*x\\d*x\\d*', description)\n",
    "      availability = el.find('div', class_='item-cart__in-stock')\n",
    "      if (availability is None): #добавляем условие, тк наличие 2х типов - 2 разных класса в разметке\n",
    "        availability = el.find('div', class_='item-cart__not-in-stock').text\n",
    "      else:\n",
    "        availability = el.find('div', class_='item-cart__in-stock').text\n",
    "      price = el.find('div', class_='price')\n",
    "      if (price is None): #добавляем условие, тк не везде есть цена и падает с ошибкой\n",
    "        price = 'По запросу'\n",
    "      else:\n",
    "        price = el.find('div', class_='price').text\n",
    "      row = {'title': title, 'description': description, 'size': size, 'availability': availability, 'price': price}\n",
    "      zheleznaya_mebel_seify = pd.concat([zheleznaya_mebel_seify, pd.DataFrame([row])])\n",
    "          \n",
    "    i +=1\n",
    "  return zheleznaya_mebel_seify.reset_index(drop=True)\n",
    "\n",
    "res_full = get_zheleznaya_mebel_seify() #записываем сейфы в переменную"
   ]
  },
  {
   "cell_type": "code",
   "execution_count": 6,
   "metadata": {},
   "outputs": [
    {
     "ename": "NameError",
     "evalue": "name 'res_full' is not defined",
     "output_type": "error",
     "traceback": [
      "\u001b[1;31m---------------------------------------------------------------------------\u001b[0m",
      "\u001b[1;31mNameError\u001b[0m                                 Traceback (most recent call last)",
      "Cell \u001b[1;32mIn[6], line 1\u001b[0m\n\u001b[1;32m----> 1\u001b[0m \u001b[43mres_full\u001b[49m\u001b[38;5;241m.\u001b[39minfo()\n",
      "\u001b[1;31mNameError\u001b[0m: name 'res_full' is not defined"
     ]
    }
   ],
   "source": [
    "res_full.info()"
   ]
  },
  {
   "cell_type": "code",
   "execution_count": 7,
   "metadata": {},
   "outputs": [
    {
     "ename": "NameError",
     "evalue": "name 'res_full' is not defined",
     "output_type": "error",
     "traceback": [
      "\u001b[1;31m---------------------------------------------------------------------------\u001b[0m",
      "\u001b[1;31mNameError\u001b[0m                                 Traceback (most recent call last)",
      "Cell \u001b[1;32mIn[7], line 1\u001b[0m\n\u001b[1;32m----> 1\u001b[0m \u001b[43mres_full\u001b[49m\u001b[38;5;241m.\u001b[39mto_csv(\u001b[38;5;124m'\u001b[39m\u001b[38;5;124mzheleznaya_mebel-seify-2023-03-20.csv\u001b[39m\u001b[38;5;124m'\u001b[39m, index\u001b[38;5;241m=\u001b[39m\u001b[38;5;28;01mFalse\u001b[39;00m) \u001b[38;5;66;03m#записываем в файл\u001b[39;00m\n",
      "\u001b[1;31mNameError\u001b[0m: name 'res_full' is not defined"
     ]
    }
   ],
   "source": [
    "res_full.to_csv('zheleznaya_mebel-seify-2023-03-20.csv', index=False) #записываем в файл"
   ]
  }
 ],
 "metadata": {
  "kernelspec": {
   "display_name": "Python 3.11.0 64-bit",
   "language": "python",
   "name": "python3"
  },
  "language_info": {
   "codemirror_mode": {
    "name": "ipython",
    "version": 3
   },
   "file_extension": ".py",
   "mimetype": "text/x-python",
   "name": "python",
   "nbconvert_exporter": "python",
   "pygments_lexer": "ipython3",
   "version": "3.11.0"
  },
  "orig_nbformat": 4,
  "vscode": {
   "interpreter": {
    "hash": "de47f5c92c0ee6f12a59a5613ac5feff6aab19ddff207ba0b3964cced08c4ccc"
   }
  }
 },
 "nbformat": 4,
 "nbformat_minor": 2
}
